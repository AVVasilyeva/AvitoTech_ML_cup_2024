{
 "cells": [
  {
   "cell_type": "code",
   "execution_count": 1,
   "id": "28f76251-45a3-41f1-81f6-c7dd299c236c",
   "metadata": {},
   "outputs": [],
   "source": [
    "import pandas as pd\n",
    "import numpy as np\n",
    "import seaborn as sns\n",
    "import matplotlib.pyplot as plt\n",
    "from sklearn.metrics import auc\n",
    "from sklearn.metrics import roc_curve\n",
    "from sklearn.metrics import RocCurveDisplay\n",
    "from sklearn.model_selection import train_test_split\n",
    "import imblearn\n",
    "from imblearn.over_sampling import RandomOverSampler\n",
    "from catboost import CatBoostClassifier\n",
    "from sklearn.metrics import roc_auc_score, roc_curve"
   ]
  },
  {
   "cell_type": "code",
   "execution_count": 2,
   "id": "da415471-7be4-4ba9-af74-f839d47a53da",
   "metadata": {
    "scrolled": true
   },
   "outputs": [],
   "source": [
    "campaigns_meta  = pd.read_parquet(\"../../input_data/campaigns_meta.parquet\")\n",
    "categories  = pd.read_parquet(\"../../input_data/categories.parquet\")\n",
    "camp = pd.read_csv(\"../../input_data/campaign_stat.csv\")"
   ]
  },
  {
   "cell_type": "code",
   "execution_count": 3,
   "id": "e9142e1a",
   "metadata": {},
   "outputs": [],
   "source": [
    "camp.set_index('adv_campaign_id', inplace=True)"
   ]
  },
  {
   "cell_type": "code",
   "execution_count": 4,
   "id": "31672b77-0f1c-4b9b-82e2-7df3daf006bf",
   "metadata": {},
   "outputs": [
    {
     "data": {
      "text/html": [
       "<div>\n",
       "<style scoped>\n",
       "    .dataframe tbody tr th:only-of-type {\n",
       "        vertical-align: middle;\n",
       "    }\n",
       "\n",
       "    .dataframe tbody tr th {\n",
       "        vertical-align: top;\n",
       "    }\n",
       "\n",
       "    .dataframe thead th {\n",
       "        text-align: right;\n",
       "    }\n",
       "</style>\n",
       "<table border=\"1\" class=\"dataframe\">\n",
       "  <thead>\n",
       "    <tr style=\"text-align: right;\">\n",
       "      <th></th>\n",
       "      <th>adv_campaign_id</th>\n",
       "      <th>start_date</th>\n",
       "      <th>end_date</th>\n",
       "      <th>goal_cost</th>\n",
       "      <th>goal_budget</th>\n",
       "      <th>location_id</th>\n",
       "      <th>logcat_id</th>\n",
       "      <th>num_clicks</th>\n",
       "      <th>days</th>\n",
       "    </tr>\n",
       "  </thead>\n",
       "  <tbody>\n",
       "    <tr>\n",
       "      <th>0</th>\n",
       "      <td>2153</td>\n",
       "      <td>2024-09-21</td>\n",
       "      <td>2024-10-02</td>\n",
       "      <td>6.661659</td>\n",
       "      <td>9429.056096</td>\n",
       "      <td>70</td>\n",
       "      <td>59</td>\n",
       "      <td>1415.421542</td>\n",
       "      <td>11</td>\n",
       "    </tr>\n",
       "    <tr>\n",
       "      <th>1</th>\n",
       "      <td>3103</td>\n",
       "      <td>2024-09-10</td>\n",
       "      <td>2024-09-16</td>\n",
       "      <td>2.853378</td>\n",
       "      <td>3844.482933</td>\n",
       "      <td>30</td>\n",
       "      <td>40</td>\n",
       "      <td>1347.344476</td>\n",
       "      <td>6</td>\n",
       "    </tr>\n",
       "    <tr>\n",
       "      <th>2</th>\n",
       "      <td>2816</td>\n",
       "      <td>2024-09-10</td>\n",
       "      <td>2024-09-17</td>\n",
       "      <td>3.058230</td>\n",
       "      <td>1455.156612</td>\n",
       "      <td>56</td>\n",
       "      <td>65</td>\n",
       "      <td>475.816538</td>\n",
       "      <td>7</td>\n",
       "    </tr>\n",
       "    <tr>\n",
       "      <th>3</th>\n",
       "      <td>3603</td>\n",
       "      <td>2024-09-10</td>\n",
       "      <td>2024-09-16</td>\n",
       "      <td>4.395015</td>\n",
       "      <td>2592.232475</td>\n",
       "      <td>30</td>\n",
       "      <td>50</td>\n",
       "      <td>589.812003</td>\n",
       "      <td>6</td>\n",
       "    </tr>\n",
       "    <tr>\n",
       "      <th>4</th>\n",
       "      <td>1328</td>\n",
       "      <td>2024-09-10</td>\n",
       "      <td>2024-09-16</td>\n",
       "      <td>3.891329</td>\n",
       "      <td>2836.139672</td>\n",
       "      <td>30</td>\n",
       "      <td>51</td>\n",
       "      <td>728.835796</td>\n",
       "      <td>6</td>\n",
       "    </tr>\n",
       "    <tr>\n",
       "      <th>...</th>\n",
       "      <td>...</td>\n",
       "      <td>...</td>\n",
       "      <td>...</td>\n",
       "      <td>...</td>\n",
       "      <td>...</td>\n",
       "      <td>...</td>\n",
       "      <td>...</td>\n",
       "      <td>...</td>\n",
       "      <td>...</td>\n",
       "    </tr>\n",
       "    <tr>\n",
       "      <th>4026</th>\n",
       "      <td>855</td>\n",
       "      <td>2024-09-18</td>\n",
       "      <td>2024-09-24</td>\n",
       "      <td>3.758750</td>\n",
       "      <td>525.462249</td>\n",
       "      <td>12</td>\n",
       "      <td>65</td>\n",
       "      <td>139.797080</td>\n",
       "      <td>6</td>\n",
       "    </tr>\n",
       "    <tr>\n",
       "      <th>4027</th>\n",
       "      <td>1781</td>\n",
       "      <td>2024-09-18</td>\n",
       "      <td>2024-09-24</td>\n",
       "      <td>4.122703</td>\n",
       "      <td>3814.655409</td>\n",
       "      <td>46</td>\n",
       "      <td>50</td>\n",
       "      <td>925.280225</td>\n",
       "      <td>6</td>\n",
       "    </tr>\n",
       "    <tr>\n",
       "      <th>4028</th>\n",
       "      <td>2485</td>\n",
       "      <td>2024-09-19</td>\n",
       "      <td>2024-09-29</td>\n",
       "      <td>4.004430</td>\n",
       "      <td>3485.343664</td>\n",
       "      <td>57</td>\n",
       "      <td>65</td>\n",
       "      <td>870.371962</td>\n",
       "      <td>10</td>\n",
       "    </tr>\n",
       "    <tr>\n",
       "      <th>4029</th>\n",
       "      <td>541</td>\n",
       "      <td>2024-09-20</td>\n",
       "      <td>2024-09-30</td>\n",
       "      <td>9.647247</td>\n",
       "      <td>80305.420249</td>\n",
       "      <td>58</td>\n",
       "      <td>18</td>\n",
       "      <td>8324.180346</td>\n",
       "      <td>10</td>\n",
       "    </tr>\n",
       "    <tr>\n",
       "      <th>4030</th>\n",
       "      <td>852</td>\n",
       "      <td>2024-09-19</td>\n",
       "      <td>2024-09-25</td>\n",
       "      <td>7.356655</td>\n",
       "      <td>3392.542034</td>\n",
       "      <td>30</td>\n",
       "      <td>65</td>\n",
       "      <td>461.152823</td>\n",
       "      <td>6</td>\n",
       "    </tr>\n",
       "  </tbody>\n",
       "</table>\n",
       "<p>4031 rows × 9 columns</p>\n",
       "</div>"
      ],
      "text/plain": [
       "      adv_campaign_id  start_date    end_date  goal_cost   goal_budget  \\\n",
       "0                2153  2024-09-21  2024-10-02   6.661659   9429.056096   \n",
       "1                3103  2024-09-10  2024-09-16   2.853378   3844.482933   \n",
       "2                2816  2024-09-10  2024-09-17   3.058230   1455.156612   \n",
       "3                3603  2024-09-10  2024-09-16   4.395015   2592.232475   \n",
       "4                1328  2024-09-10  2024-09-16   3.891329   2836.139672   \n",
       "...               ...         ...         ...        ...           ...   \n",
       "4026              855  2024-09-18  2024-09-24   3.758750    525.462249   \n",
       "4027             1781  2024-09-18  2024-09-24   4.122703   3814.655409   \n",
       "4028             2485  2024-09-19  2024-09-29   4.004430   3485.343664   \n",
       "4029              541  2024-09-20  2024-09-30   9.647247  80305.420249   \n",
       "4030              852  2024-09-19  2024-09-25   7.356655   3392.542034   \n",
       "\n",
       "      location_id  logcat_id   num_clicks  days  \n",
       "0              70         59  1415.421542    11  \n",
       "1              30         40  1347.344476     6  \n",
       "2              56         65   475.816538     7  \n",
       "3              30         50   589.812003     6  \n",
       "4              30         51   728.835796     6  \n",
       "...           ...        ...          ...   ...  \n",
       "4026           12         65   139.797080     6  \n",
       "4027           46         50   925.280225     6  \n",
       "4028           57         65   870.371962    10  \n",
       "4029           58         18  8324.180346    10  \n",
       "4030           30         65   461.152823     6  \n",
       "\n",
       "[4031 rows x 9 columns]"
      ]
     },
     "execution_count": 4,
     "metadata": {},
     "output_type": "execute_result"
    }
   ],
   "source": [
    "campaigns_meta['num_clicks'] = campaigns_meta.goal_budget / campaigns_meta.goal_cost\n",
    "campaigns_meta['days'] = (campaigns_meta.end_date - campaigns_meta.start_date).astype('timedelta64[ns]').dt.days\n",
    "campaigns_meta"
   ]
  },
  {
   "cell_type": "code",
   "execution_count": 5,
   "id": "ed5f064f-7842-439c-8a0a-3385fce7971f",
   "metadata": {},
   "outputs": [],
   "source": [
    "cat = categories.groupby(['logcat_id']).category_id.agg(pd.Series.mode).astype(int).reset_index()"
   ]
  },
  {
   "cell_type": "code",
   "execution_count": 6,
   "id": "283905b1-a87c-48f3-ad15-6948f3ca7cd1",
   "metadata": {},
   "outputs": [],
   "source": [
    "campaigns_meta = campaigns_meta.merge(cat, on=['logcat_id'], how=\"left\")"
   ]
  },
  {
   "cell_type": "code",
   "execution_count": 7,
   "id": "ccaab237-eefc-41c4-b172-98f7a4e53e6b",
   "metadata": {
    "scrolled": false
   },
   "outputs": [
    {
     "data": {
      "text/plain": [
       "<catboost.core.CatBoostClassifier at 0x204f01371d0>"
      ]
     },
     "execution_count": 7,
     "metadata": {},
     "output_type": "execute_result"
    }
   ],
   "source": [
    "catboost_model = CatBoostClassifier()  \n",
    "catboost_model.load_model(\"catboost_model_1\")\n",
    "\n",
    "catboost_model1 = CatBoostClassifier()  \n",
    "catboost_model1.load_model(\"catboost_model_2\")\n",
    "\n",
    "catboost_model2 = CatBoostClassifier()  \n",
    "catboost_model2.load_model(\"catboost_model_3\")\n",
    "\n",
    "catboost_model3 = CatBoostClassifier()  \n",
    "catboost_model3.load_model(\"catboost_model_4\")\n",
    "\n",
    "catboost_model4 = CatBoostClassifier()  \n",
    "catboost_model4.load_model(\"catboost_model_5\")"
   ]
  },
  {
   "cell_type": "code",
   "execution_count": 8,
   "id": "4a057317",
   "metadata": {},
   "outputs": [
    {
     "data": {
      "text/html": [
       "<div>\n",
       "<style scoped>\n",
       "    .dataframe tbody tr th:only-of-type {\n",
       "        vertical-align: middle;\n",
       "    }\n",
       "\n",
       "    .dataframe tbody tr th {\n",
       "        vertical-align: top;\n",
       "    }\n",
       "\n",
       "    .dataframe thead th {\n",
       "        text-align: right;\n",
       "    }\n",
       "</style>\n",
       "<table border=\"1\" class=\"dataframe\">\n",
       "  <thead>\n",
       "    <tr style=\"text-align: right;\">\n",
       "      <th></th>\n",
       "      <th>user_id</th>\n",
       "      <th>platform_id</th>\n",
       "      <th>adv_creative_id</th>\n",
       "      <th>banner_code</th>\n",
       "      <th>location_id</th>\n",
       "      <th>logcat_id</th>\n",
       "      <th>num_clicks</th>\n",
       "      <th>category_id</th>\n",
       "      <th>camp</th>\n",
       "    </tr>\n",
       "  </thead>\n",
       "  <tbody>\n",
       "    <tr>\n",
       "      <th>0</th>\n",
       "      <td>327884</td>\n",
       "      <td>2</td>\n",
       "      <td>1599</td>\n",
       "      <td>8</td>\n",
       "      <td>46</td>\n",
       "      <td>40</td>\n",
       "      <td>1768.568747</td>\n",
       "      <td>4</td>\n",
       "      <td>0.322730</td>\n",
       "    </tr>\n",
       "    <tr>\n",
       "      <th>1</th>\n",
       "      <td>1167448</td>\n",
       "      <td>2</td>\n",
       "      <td>2145</td>\n",
       "      <td>5</td>\n",
       "      <td>1</td>\n",
       "      <td>40</td>\n",
       "      <td>4278.102622</td>\n",
       "      <td>4</td>\n",
       "      <td>0.464610</td>\n",
       "    </tr>\n",
       "    <tr>\n",
       "      <th>2</th>\n",
       "      <td>3124660</td>\n",
       "      <td>1</td>\n",
       "      <td>4099</td>\n",
       "      <td>7</td>\n",
       "      <td>46</td>\n",
       "      <td>40</td>\n",
       "      <td>1435.407650</td>\n",
       "      <td>4</td>\n",
       "      <td>0.295611</td>\n",
       "    </tr>\n",
       "    <tr>\n",
       "      <th>3</th>\n",
       "      <td>770841</td>\n",
       "      <td>3</td>\n",
       "      <td>1026</td>\n",
       "      <td>6</td>\n",
       "      <td>45</td>\n",
       "      <td>18</td>\n",
       "      <td>1755.984136</td>\n",
       "      <td>4</td>\n",
       "      <td>0.444433</td>\n",
       "    </tr>\n",
       "    <tr>\n",
       "      <th>4</th>\n",
       "      <td>1714878</td>\n",
       "      <td>2</td>\n",
       "      <td>1869</td>\n",
       "      <td>8</td>\n",
       "      <td>46</td>\n",
       "      <td>25</td>\n",
       "      <td>1349.649447</td>\n",
       "      <td>4</td>\n",
       "      <td>0.461806</td>\n",
       "    </tr>\n",
       "  </tbody>\n",
       "</table>\n",
       "</div>"
      ],
      "text/plain": [
       "   user_id  platform_id  adv_creative_id  banner_code  location_id  logcat_id  \\\n",
       "0   327884            2             1599            8           46         40   \n",
       "1  1167448            2             2145            5            1         40   \n",
       "2  3124660            1             4099            7           46         40   \n",
       "3   770841            3             1026            6           45         18   \n",
       "4  1714878            2             1869            8           46         25   \n",
       "\n",
       "    num_clicks  category_id      camp  \n",
       "0  1768.568747            4  0.322730  \n",
       "1  4278.102622            4  0.464610  \n",
       "2  1435.407650            4  0.295611  \n",
       "3  1755.984136            4  0.444433  \n",
       "4  1349.649447            4  0.461806  "
      ]
     },
     "execution_count": 8,
     "metadata": {},
     "output_type": "execute_result"
    }
   ],
   "source": [
    "test_24_9_22 = pd.read_csv(\"../../input_data/2024-09-22.csv\")\n",
    "\n",
    "test_24_9_22 = test_24_9_22.merge(campaigns_meta[['adv_campaign_id', 'location_id', 'logcat_id',  'num_clicks', 'days', 'category_id']], on=['adv_campaign_id'], how=\"left\")\n",
    "\n",
    "test_24_9_22['camp'] = test_24_9_22['adv_campaign_id'].map(camp.proportion)\n",
    "\n",
    "test_24_9_22 = test_24_9_22.fillna(0)\n",
    "\n",
    "y_24_9_22 = test_24_9_22.target\n",
    "test_24_9_22 = test_24_9_22.drop(columns=['adv_campaign_id', 'event_date', 'is_main', 'days', 'target', 'Unnamed: 0'])\n",
    "test_24_9_22 = test_24_9_22.fillna(0)\n",
    "test_24_9_22.head()"
   ]
  },
  {
   "cell_type": "code",
   "execution_count": null,
   "id": "bb07cde0",
   "metadata": {},
   "outputs": [],
   "source": [
    "proba_24_9_22 = catboost_model.predict_proba(test_24_9_22)[:, 1]"
   ]
  },
  {
   "cell_type": "code",
   "execution_count": null,
   "id": "b6c7e55c",
   "metadata": {},
   "outputs": [],
   "source": [
    "proba1_24_9_22 = catboost_model1.predict_proba(test_24_9_22)[:, 1]"
   ]
  },
  {
   "cell_type": "code",
   "execution_count": 10,
   "id": "3bfdad67",
   "metadata": {},
   "outputs": [],
   "source": [
    "proba2_24_9_22 = catboost_model2.predict_proba(test_24_9_22)[:, 1]"
   ]
  },
  {
   "cell_type": "code",
   "execution_count": 11,
   "id": "a615bca4",
   "metadata": {},
   "outputs": [],
   "source": [
    "proba3_24_9_22 = catboost_model3.predict_proba(test_24_9_22)[:, 1]"
   ]
  },
  {
   "cell_type": "code",
   "execution_count": 12,
   "id": "e4f6ad8b",
   "metadata": {},
   "outputs": [],
   "source": [
    "proba4_24_9_22 = catboost_model4.predict_proba(test_24_9_22)[:, 1]"
   ]
  },
  {
   "cell_type": "code",
   "execution_count": 13,
   "id": "c843dd00",
   "metadata": {},
   "outputs": [
    {
     "data": {
      "text/plain": [
       "array([0.36521593, 0.73303258, 0.2375475 , ..., 0.44086735, 0.50179059,\n",
       "       0.64990356])"
      ]
     },
     "execution_count": 13,
     "metadata": {},
     "output_type": "execute_result"
    }
   ],
   "source": [
    "proba_frame_24_9_22 = np.concatenate((proba_24_9_22.reshape(-1, 1), proba1_24_9_22.reshape(-1, 1), proba2_24_9_22.reshape(-1, 1), proba3_24_9_22.reshape(-1, 1), proba4_24_9_22.reshape(-1, 1)), axis=1)\n",
    "\n",
    "stack_result_mean = proba_frame_24_9_22.mean(axis=1)\n",
    "stack_result_mean"
   ]
  },
  {
   "cell_type": "code",
   "execution_count": 14,
   "id": "2d93bb54",
   "metadata": {},
   "outputs": [],
   "source": [
    "test_24_9_22['proba'] = stack_result_mean"
   ]
  },
  {
   "cell_type": "code",
   "execution_count": 15,
   "id": "99ed3d2e",
   "metadata": {},
   "outputs": [
    {
     "name": "stdout",
     "output_type": "stream",
     "text": [
      "0.658863326840365\n"
     ]
    },
    {
     "data": {
      "image/png": "[encoded data removed]",
      "text/plain": [
       "<Figure size 640x480 with 1 Axes>"
      ]
     },
     "metadata": {},
     "output_type": "display_data"
    }
   ],
   "source": [
    "fpr, tpr, thresholds = roc_curve(y_24_9_22, test_24_9_22['proba'])\n",
    "RocCurveDisplay(fpr=fpr, tpr=tpr).plot()\n",
    "print(auc(fpr, tpr))"
   ]
  },
  {
   "cell_type": "code",
   "execution_count": 16,
   "id": "6a7dd63c",
   "metadata": {},
   "outputs": [
    {
     "name": "stderr",
     "output_type": "stream",
     "text": [
      "C:\\Users\\User\\anaconda3\\Lib\\site-packages\\sklearn\\metrics\\_ranking.py:1020: UndefinedMetricWarning: No negative samples in y_true, false positive value should be meaningless\n",
      "  warnings.warn(\n",
      "C:\\Users\\User\\anaconda3\\Lib\\site-packages\\sklearn\\metrics\\_ranking.py:1020: UndefinedMetricWarning: No negative samples in y_true, false positive value should be meaningless\n",
      "  warnings.warn(\n",
      "C:\\Users\\User\\anaconda3\\Lib\\site-packages\\sklearn\\metrics\\_ranking.py:1020: UndefinedMetricWarning: No negative samples in y_true, false positive value should be meaningless\n",
      "  warnings.warn(\n"
     ]
    },
    {
     "data": {
      "text/plain": [
       "(38744, 0.6096113906972925)"
      ]
     },
     "execution_count": 16,
     "metadata": {},
     "output_type": "execute_result"
    }
   ],
   "source": [
    "aucs = []\n",
    "bad_uid = []\n",
    "\n",
    "for us in test_24_9_22.user_id.unique():\n",
    "    \n",
    "    #if us in train_user:    \n",
    "    \n",
    "        tu = test_24_9_22[test_24_9_22.user_id == us]\n",
    "        uidx = tu.index    \n",
    "        prob = tu.proba\n",
    "        fpr, tpr, thresholds = roc_curve(y_24_9_22[uidx], prob)\n",
    "        ac = auc(fpr, tpr)\n",
    "        if ac < 0.5: bad_uid.append(us)\n",
    "        if ~np.isnan(ac): aucs.append(ac) \n",
    "        \n",
    "len(aucs), sum(aucs) / len(aucs)"
   ]
  },
  {
   "cell_type": "code",
   "execution_count": 17,
   "id": "8c838927-9faf-4074-9832-d400a1f6ccf1",
   "metadata": {},
   "outputs": [],
   "source": [
    "test_ = pd.read_parquet(\"../../input_data/test.parquet\")"
   ]
  },
  {
   "cell_type": "code",
   "execution_count": 18,
   "id": "bab6c1eb-48be-4771-b392-871132790282",
   "metadata": {},
   "outputs": [],
   "source": [
    "X_test_ = test_.drop(columns=['event_date'])\n",
    "X_test_ = X_test_.merge(campaigns_meta[['adv_campaign_id', 'location_id', 'logcat_id',  'num_clicks', 'days', 'category_id']], on=['adv_campaign_id'], how=\"left\").drop(columns=['is_main', 'days'])"
   ]
  },
  {
   "cell_type": "code",
   "execution_count": 19,
   "id": "3d4e9cc5",
   "metadata": {},
   "outputs": [],
   "source": [
    "X_test_['camp'] = X_test_['adv_campaign_id'].map(camp.proportion)"
   ]
  },
  {
   "cell_type": "code",
   "execution_count": 20,
   "id": "387760b6",
   "metadata": {},
   "outputs": [],
   "source": [
    "X_test_ = X_test_.drop(columns=['adv_campaign_id'])"
   ]
  },
  {
   "cell_type": "code",
   "execution_count": 21,
   "id": "b9cb2850",
   "metadata": {},
   "outputs": [],
   "source": [
    "X_test_ = X_test_.fillna(0)"
   ]
  },
  {
   "cell_type": "code",
   "execution_count": null,
   "id": "eab9ef09",
   "metadata": {},
   "outputs": [],
   "source": [
    "proba1_ = catboost_model1.predict_proba(X_test_)[:, 1]"
   ]
  },
  {
   "cell_type": "code",
   "execution_count": null,
   "id": "c510e5c7",
   "metadata": {},
   "outputs": [],
   "source": [
    "proba2_ = catboost_model2.predict_proba(X_test_)[:, 1]"
   ]
  },
  {
   "cell_type": "code",
   "execution_count": 23,
   "id": "ef89baf9",
   "metadata": {},
   "outputs": [],
   "source": [
    "proba_ = catboost_model.predict_proba(X_test_)[:, 1]"
   ]
  },
  {
   "cell_type": "code",
   "execution_count": 24,
   "id": "dd5300a8",
   "metadata": {},
   "outputs": [],
   "source": [
    "proba3_ = catboost_model3.predict_proba(X_test_)[:, 1]"
   ]
  },
  {
   "cell_type": "code",
   "execution_count": 25,
   "id": "fbf899cd",
   "metadata": {},
   "outputs": [],
   "source": [
    "proba4_ = catboost_model4.predict_proba(X_test_)[:, 1]"
   ]
  },
  {
   "cell_type": "code",
   "execution_count": 26,
   "id": "f1a2ab06",
   "metadata": {},
   "outputs": [
    {
     "data": {
      "text/plain": [
       "array([0.67966639, 0.56659026, 0.68042057, ..., 0.62538614, 0.76607382,\n",
       "       0.59046118])"
      ]
     },
     "execution_count": 26,
     "metadata": {},
     "output_type": "execute_result"
    }
   ],
   "source": [
    "proba_frame_ = np.concatenate((proba_.reshape(-1, 1), proba1_.reshape(-1, 1), proba2_.reshape(-1, 1), proba3_.reshape(-1, 1), proba4_.reshape(-1, 1)), axis=1)\n",
    "\n",
    "stack_result = proba_frame_.mean(axis=1)\n",
    "stack_result"
   ]
  },
  {
   "cell_type": "code",
   "execution_count": 27,
   "id": "120b5c59-5906-4b5d-92ae-da640d8afe77",
   "metadata": {},
   "outputs": [],
   "source": [
    "test_['predict'] = stack_result.astype('float64')"
   ]
  },
  {
   "cell_type": "code",
   "execution_count": 28,
   "id": "73304894-479e-4436-89c1-119823f12380",
   "metadata": {},
   "outputs": [],
   "source": [
    "test_[[\"user_id\", \"adv_campaign_id\", \"predict\"]].to_csv(\"stacking_5_0.6096113906972925.csv\", index=False)"
   ]
  },
  {
   "cell_type": "code",
   "execution_count": 32,
   "id": "67ff3b0e-8ece-4d58-b625-e303904f1c6a",
   "metadata": {},
   "outputs": [
    {
     "data": {
      "text/html": [
       "<div>\n",
       "<style scoped>\n",
       "    .dataframe tbody tr th:only-of-type {\n",
       "        vertical-align: middle;\n",
       "    }\n",
       "\n",
       "    .dataframe tbody tr th {\n",
       "        vertical-align: top;\n",
       "    }\n",
       "\n",
       "    .dataframe thead th {\n",
       "        text-align: right;\n",
       "    }\n",
       "</style>\n",
       "<table border=\"1\" class=\"dataframe\">\n",
       "  <thead>\n",
       "    <tr style=\"text-align: right;\">\n",
       "      <th></th>\n",
       "      <th>user_id</th>\n",
       "      <th>adv_campaign_id</th>\n",
       "      <th>platform_id</th>\n",
       "      <th>adv_creative_id</th>\n",
       "      <th>event_date</th>\n",
       "      <th>banner_code</th>\n",
       "      <th>is_main</th>\n",
       "      <th>predict</th>\n",
       "    </tr>\n",
       "  </thead>\n",
       "  <tbody>\n",
       "    <tr>\n",
       "      <th>0</th>\n",
       "      <td>2714742</td>\n",
       "      <td>3026</td>\n",
       "      <td>2</td>\n",
       "      <td>4056</td>\n",
       "      <td>2024-09-23</td>\n",
       "      <td>8</td>\n",
       "      <td>True</td>\n",
       "      <td>0.672874</td>\n",
       "    </tr>\n",
       "    <tr>\n",
       "      <th>1</th>\n",
       "      <td>2714742</td>\n",
       "      <td>2994</td>\n",
       "      <td>2</td>\n",
       "      <td>3954</td>\n",
       "      <td>2024-09-23</td>\n",
       "      <td>8</td>\n",
       "      <td>True</td>\n",
       "      <td>0.559617</td>\n",
       "    </tr>\n",
       "    <tr>\n",
       "      <th>2</th>\n",
       "      <td>2714742</td>\n",
       "      <td>97</td>\n",
       "      <td>2</td>\n",
       "      <td>1752</td>\n",
       "      <td>2024-09-23</td>\n",
       "      <td>8</td>\n",
       "      <td>True</td>\n",
       "      <td>0.667370</td>\n",
       "    </tr>\n",
       "    <tr>\n",
       "      <th>3</th>\n",
       "      <td>2714742</td>\n",
       "      <td>3539</td>\n",
       "      <td>2</td>\n",
       "      <td>1244</td>\n",
       "      <td>2024-09-23</td>\n",
       "      <td>8</td>\n",
       "      <td>True</td>\n",
       "      <td>0.646260</td>\n",
       "    </tr>\n",
       "    <tr>\n",
       "      <th>4</th>\n",
       "      <td>2714742</td>\n",
       "      <td>2756</td>\n",
       "      <td>2</td>\n",
       "      <td>2003</td>\n",
       "      <td>2024-09-23</td>\n",
       "      <td>8</td>\n",
       "      <td>True</td>\n",
       "      <td>0.731680</td>\n",
       "    </tr>\n",
       "    <tr>\n",
       "      <th>...</th>\n",
       "      <td>...</td>\n",
       "      <td>...</td>\n",
       "      <td>...</td>\n",
       "      <td>...</td>\n",
       "      <td>...</td>\n",
       "      <td>...</td>\n",
       "      <td>...</td>\n",
       "      <td>...</td>\n",
       "    </tr>\n",
       "    <tr>\n",
       "      <th>1983282</th>\n",
       "      <td>2398626</td>\n",
       "      <td>1099</td>\n",
       "      <td>2</td>\n",
       "      <td>3030</td>\n",
       "      <td>2024-09-23</td>\n",
       "      <td>8</td>\n",
       "      <td>True</td>\n",
       "      <td>0.649754</td>\n",
       "    </tr>\n",
       "    <tr>\n",
       "      <th>1983283</th>\n",
       "      <td>2398626</td>\n",
       "      <td>488</td>\n",
       "      <td>2</td>\n",
       "      <td>1324</td>\n",
       "      <td>2024-09-23</td>\n",
       "      <td>8</td>\n",
       "      <td>True</td>\n",
       "      <td>0.711635</td>\n",
       "    </tr>\n",
       "    <tr>\n",
       "      <th>1983284</th>\n",
       "      <td>2398626</td>\n",
       "      <td>49</td>\n",
       "      <td>2</td>\n",
       "      <td>1514</td>\n",
       "      <td>2024-09-23</td>\n",
       "      <td>8</td>\n",
       "      <td>True</td>\n",
       "      <td>0.639494</td>\n",
       "    </tr>\n",
       "    <tr>\n",
       "      <th>1983285</th>\n",
       "      <td>2398626</td>\n",
       "      <td>1053</td>\n",
       "      <td>2</td>\n",
       "      <td>4211</td>\n",
       "      <td>2024-09-23</td>\n",
       "      <td>5</td>\n",
       "      <td>False</td>\n",
       "      <td>0.754314</td>\n",
       "    </tr>\n",
       "    <tr>\n",
       "      <th>1983286</th>\n",
       "      <td>2398626</td>\n",
       "      <td>1870</td>\n",
       "      <td>2</td>\n",
       "      <td>1043</td>\n",
       "      <td>2024-09-23</td>\n",
       "      <td>8</td>\n",
       "      <td>True</td>\n",
       "      <td>0.598619</td>\n",
       "    </tr>\n",
       "  </tbody>\n",
       "</table>\n",
       "<p>1983287 rows × 8 columns</p>\n",
       "</div>"
      ],
      "text/plain": [
       "         user_id  adv_campaign_id  platform_id  adv_creative_id  event_date  \\\n",
       "0        2714742             3026            2             4056  2024-09-23   \n",
       "1        2714742             2994            2             3954  2024-09-23   \n",
       "2        2714742               97            2             1752  2024-09-23   \n",
       "3        2714742             3539            2             1244  2024-09-23   \n",
       "4        2714742             2756            2             2003  2024-09-23   \n",
       "...          ...              ...          ...              ...         ...   \n",
       "1983282  2398626             1099            2             3030  2024-09-23   \n",
       "1983283  2398626              488            2             1324  2024-09-23   \n",
       "1983284  2398626               49            2             1514  2024-09-23   \n",
       "1983285  2398626             1053            2             4211  2024-09-23   \n",
       "1983286  2398626             1870            2             1043  2024-09-23   \n",
       "\n",
       "         banner_code  is_main   predict  \n",
       "0                  8     True  0.672874  \n",
       "1                  8     True  0.559617  \n",
       "2                  8     True  0.667370  \n",
       "3                  8     True  0.646260  \n",
       "4                  8     True  0.731680  \n",
       "...              ...      ...       ...  \n",
       "1983282            8     True  0.649754  \n",
       "1983283            8     True  0.711635  \n",
       "1983284            8     True  0.639494  \n",
       "1983285            5    False  0.754314  \n",
       "1983286            8     True  0.598619  \n",
       "\n",
       "[1983287 rows x 8 columns]"
      ]
     },
     "execution_count": 32,
     "metadata": {},
     "output_type": "execute_result"
    }
   ],
   "source": [
    "test_"
   ]
  }
 ],
 "metadata": {
  "kernelspec": {
   "display_name": "Python 3 (ipykernel)",
   "language": "python",
   "name": "python3"
  },
  "language_info": {
   "codemirror_mode": {
    "name": "ipython",
    "version": 3
   },
   "file_extension": ".py",
   "mimetype": "text/x-python",
   "name": "python",
   "nbconvert_exporter": "python",
   "pygments_lexer": "ipython3",
   "version": "3.11.7"
  }
 },
 "nbformat": 4,
 "nbformat_minor": 5
}
