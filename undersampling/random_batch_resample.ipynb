{
 "cells": [
  {
   "cell_type": "code",
   "execution_count": 5,
   "id": "70111e32",
   "metadata": {},
   "outputs": [],
   "source": [
    "import pandas as pd\n",
    "\n",
    "import pyarrow.parquet as pq\n",
    "from pyarrow.parquet import ParquetFile\n",
    "import pyarrow as pa \n",
    "from sklearn.utils import resample\n",
    "from imblearn.under_sampling import RandomUnderSampler\n",
    "from imblearn.under_sampling import TomekLinks\n",
    "import tqdm\n",
    "from imblearn.under_sampling import CondensedNearestNeighbour\n",
    "import datetime"
   ]
  },
  {
   "cell_type": "markdown",
   "id": "3dc76687",
   "metadata": {},
   "source": [
    "# тут просто отбираем все лайки + случайным образом игноры в пропорции 1:15\n",
    "# таких датасета было сформировано 2 с различными random_state"
   ]
  },
  {
   "cell_type": "code",
   "execution_count": 6,
   "id": "16d2848c",
   "metadata": {},
   "outputs": [
    {
     "name": "stdout",
     "output_type": "stream",
     "text": [
      "10000000\n",
      "target\n",
      "0    596264\n",
      "1     44327\n",
      "Name: count, dtype: int64 (640591,)\n",
      "20000000\n",
      "target\n",
      "0    626631\n",
      "1     46566\n",
      "Name: count, dtype: int64 (673197,)\n",
      "30000000\n",
      "target\n",
      "0    625333\n",
      "1     46484\n",
      "Name: count, dtype: int64 (671817,)\n",
      "40000000\n",
      "target\n",
      "0    614045\n",
      "1     45648\n",
      "Name: count, dtype: int64 (659693,)\n",
      "50000000\n",
      "target\n",
      "0    632345\n",
      "1     47002\n",
      "Name: count, dtype: int64 (679347,)\n",
      "60000000\n",
      "target\n",
      "0    642471\n",
      "1     47742\n",
      "Name: count, dtype: int64 (690213,)\n",
      "70000000\n",
      "target\n",
      "0    635234\n",
      "1     47208\n",
      "Name: count, dtype: int64 (682442,)\n",
      "80000000\n",
      "target\n",
      "0    679111\n",
      "1     50479\n",
      "Name: count, dtype: int64 (729590,)\n",
      "90000000\n",
      "target\n",
      "0    632767\n",
      "1     47016\n",
      "Name: count, dtype: int64 (679783,)\n",
      "100000000\n",
      "target\n",
      "0    774808\n",
      "1     57494\n",
      "Name: count, dtype: int64 (832302,)\n",
      "110000000\n",
      "target\n",
      "0    1249244\n",
      "1      92224\n",
      "Name: count, dtype: int64 (1341468,)\n",
      "114741035\n",
      "target\n",
      "0    593407\n",
      "1     43936\n",
      "Name: count, dtype: int64 (637343,)\n"
     ]
    }
   ],
   "source": [
    "parquet_file = pq.ParquetFile('../../input_data/train.parquet')\n",
    "\n",
    "batch_size = 10000000\n",
    "res = pd.DataFrame()\n",
    "count = 0\n",
    "\n",
    "for rows in parquet_file.iter_batches(batch_size=batch_size):\n",
    "\n",
    "    df = rows.to_pandas()     \n",
    "  \n",
    "     \n",
    "    class0 = resample(df[df.target==0], replace=False, n_samples=df.target.value_counts()[1] * 14, random_state=0)\n",
    "    data = pd.concat([class0, df[df.target==1]], axis=0).sort_values(by=['event_date']).reset_index().drop(columns=['index'])\n",
    "   \n",
    "    data.index = data.index + count\n",
    "    \n",
    "    tl = TomekLinks(sampling_strategy='majority')\n",
    "    X, y = tl.fit_resample(data.drop(columns=['target', 'event_date']), data.target)\n",
    "    \n",
    "    X.index = tl.sample_indices_ + count\n",
    "    y.index = tl.sample_indices_ + count\n",
    "    \n",
    "    count += df.shape[0]\n",
    "    print(count)  \n",
    "    \n",
    "    X = pd.concat([X, data.event_date.iloc[tl.sample_indices_]], axis=1) \n",
    "    X = pd.concat([X, y], axis=1) \n",
    "        \n",
    "    print(y.value_counts(), y.shape)\n",
    "    res = pd.concat([res, X], axis=0) "
   ]
  },
  {
   "cell_type": "code",
   "execution_count": 7,
   "id": "4ac0c824",
   "metadata": {},
   "outputs": [
    {
     "data": {
      "text/plain": [
       "target\n",
       "0    8301660\n",
       "1     616126\n",
       "Name: count, dtype: int64"
      ]
     },
     "execution_count": 7,
     "metadata": {},
     "output_type": "execute_result"
    }
   ],
   "source": [
    "res.target.value_counts()"
   ]
  },
  {
   "cell_type": "code",
   "execution_count": 8,
   "id": "5f56ad76",
   "metadata": {},
   "outputs": [],
   "source": [
    "res.to_csv('batch_resample_2_f.csv', sep=',', index=False)"
   ]
  }
 ],
 "metadata": {
  "kernelspec": {
   "display_name": "Python 3 (ipykernel)",
   "language": "python",
   "name": "python3"
  },
  "language_info": {
   "codemirror_mode": {
    "name": "ipython",
    "version": 3
   },
   "file_extension": ".py",
   "mimetype": "text/x-python",
   "name": "python",
   "nbconvert_exporter": "python",
   "pygments_lexer": "ipython3",
   "version": "3.11.7"
  }
 },
 "nbformat": 4,
 "nbformat_minor": 5
}
